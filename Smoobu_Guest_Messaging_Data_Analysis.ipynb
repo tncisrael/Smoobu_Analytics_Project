{
  "nbformat": 4,
  "nbformat_minor": 0,
  "metadata": {
    "colab": {
      "provenance": [],
      "authorship_tag": "ABX9TyObdpD5u3v1IjsIw4bRUJPp",
      "include_colab_link": true
    },
    "kernelspec": {
      "name": "python3",
      "display_name": "Python 3"
    },
    "language_info": {
      "name": "python"
    }
  },
  "cells": [
    {
      "cell_type": "markdown",
      "metadata": {
        "id": "view-in-github",
        "colab_type": "text"
      },
      "source": [
        "<a href=\"https://colab.research.google.com/github/tncisrael/Smoobu_Analytics_Project/blob/main/Smoobu_Guest_Messaging_Data_Analysis.ipynb\" target=\"_parent\"><img src=\"https://colab.research.google.com/assets/colab-badge.svg\" alt=\"Open In Colab\"/></a>"
      ]
    },
    {
      "cell_type": "code",
      "execution_count": 2,
      "metadata": {
        "id": "eaZWwEw1OJmm"
      },
      "outputs": [],
      "source": [
        "import requests\n",
        "import pandas as pd\n",
        "\n",
        "headers = {'Api-Key': 'zNA2z0ApDJMudqaA8STXsEilIrlXPILPkEowwrU4Gw'}\n",
        "\n",
        "# Fetch all reservations\n",
        "reservations_response = requests.get('https://login.smoobu.com/api/reservations', headers=headers)\n",
        "\n",
        "if reservations_response.status_code == 200:\n",
        "    reservations = reservations_response.json()['bookings']\n",
        "    all_messages = []\n",
        "\n",
        "    # Fetch messages for each reservation\n",
        "    for reservation in reservations:\n",
        "        reservation_id = reservation['id']\n",
        "        messages_response = requests.get(f'https://login.smoobu.com/api/reservations/{reservation_id}/messages', headers=headers)\n",
        "\n",
        "        if messages_response.status_code == 200:\n",
        "            all_messages.extend(messages_response.json()['messages'])\n",
        "\n",
        "    df = pd.DataFrame(all_messages)\n",
        "else:\n",
        "    print(f\"Error: {reservations_response.status_code}\")\n"
      ]
    },
    {
      "cell_type": "code",
      "source": [
        "df.head()\n"
      ],
      "metadata": {
        "colab": {
          "base_uri": "https://localhost:8080/",
          "height": 206
        },
        "id": "Vu6dy-CHPmy6",
        "outputId": "da829caa-13f1-439a-ba82-ddceb06c287f"
      },
      "execution_count": 3,
      "outputs": [
        {
          "output_type": "execute_result",
          "data": {
            "text/plain": [
              "          id subject                                            message  \\\n",
              "0  168448721          Hi Shai,thank you for accepting out booking. I...   \n",
              "1  168449456          Hi Shai, sounds great. Thank you :) Worst case...   \n",
              "2  168449483                                Looking forward to our stay   \n",
              "3  168449660          our flight is landing at 23.55 at Ben Gurion, ...   \n",
              "4  168449978                                               Toda raba :)   \n",
              "\n",
              "                                         htmlMessage  type  \\\n",
              "0  Hi Shai,thank you for accepting out booking. I...     1   \n",
              "1  Hi Shai, sounds great. Thank you :) Worst case...     1   \n",
              "2                        Looking forward to our stay     1   \n",
              "3  our flight is landing at 23.55 at Ben Gurion, ...     1   \n",
              "4                                       Toda raba :)     1   \n",
              "\n",
              "             createdAt  \n",
              "0  2023-07-11 22:42:42  \n",
              "1  2023-07-11 22:46:35  \n",
              "2  2023-07-11 22:46:44  \n",
              "3  2023-07-11 22:47:55  \n",
              "4  2023-07-11 22:49:15  "
            ],
            "text/html": [
              "\n",
              "  <div id=\"df-39cda63f-d92b-43b0-81b5-06890776d632\" class=\"colab-df-container\">\n",
              "    <div>\n",
              "<style scoped>\n",
              "    .dataframe tbody tr th:only-of-type {\n",
              "        vertical-align: middle;\n",
              "    }\n",
              "\n",
              "    .dataframe tbody tr th {\n",
              "        vertical-align: top;\n",
              "    }\n",
              "\n",
              "    .dataframe thead th {\n",
              "        text-align: right;\n",
              "    }\n",
              "</style>\n",
              "<table border=\"1\" class=\"dataframe\">\n",
              "  <thead>\n",
              "    <tr style=\"text-align: right;\">\n",
              "      <th></th>\n",
              "      <th>id</th>\n",
              "      <th>subject</th>\n",
              "      <th>message</th>\n",
              "      <th>htmlMessage</th>\n",
              "      <th>type</th>\n",
              "      <th>createdAt</th>\n",
              "    </tr>\n",
              "  </thead>\n",
              "  <tbody>\n",
              "    <tr>\n",
              "      <th>0</th>\n",
              "      <td>168448721</td>\n",
              "      <td></td>\n",
              "      <td>Hi Shai,thank you for accepting out booking. I...</td>\n",
              "      <td>Hi Shai,thank you for accepting out booking. I...</td>\n",
              "      <td>1</td>\n",
              "      <td>2023-07-11 22:42:42</td>\n",
              "    </tr>\n",
              "    <tr>\n",
              "      <th>1</th>\n",
              "      <td>168449456</td>\n",
              "      <td></td>\n",
              "      <td>Hi Shai, sounds great. Thank you :) Worst case...</td>\n",
              "      <td>Hi Shai, sounds great. Thank you :) Worst case...</td>\n",
              "      <td>1</td>\n",
              "      <td>2023-07-11 22:46:35</td>\n",
              "    </tr>\n",
              "    <tr>\n",
              "      <th>2</th>\n",
              "      <td>168449483</td>\n",
              "      <td></td>\n",
              "      <td>Looking forward to our stay</td>\n",
              "      <td>Looking forward to our stay</td>\n",
              "      <td>1</td>\n",
              "      <td>2023-07-11 22:46:44</td>\n",
              "    </tr>\n",
              "    <tr>\n",
              "      <th>3</th>\n",
              "      <td>168449660</td>\n",
              "      <td></td>\n",
              "      <td>our flight is landing at 23.55 at Ben Gurion, ...</td>\n",
              "      <td>our flight is landing at 23.55 at Ben Gurion, ...</td>\n",
              "      <td>1</td>\n",
              "      <td>2023-07-11 22:47:55</td>\n",
              "    </tr>\n",
              "    <tr>\n",
              "      <th>4</th>\n",
              "      <td>168449978</td>\n",
              "      <td></td>\n",
              "      <td>Toda raba :)</td>\n",
              "      <td>Toda raba :)</td>\n",
              "      <td>1</td>\n",
              "      <td>2023-07-11 22:49:15</td>\n",
              "    </tr>\n",
              "  </tbody>\n",
              "</table>\n",
              "</div>\n",
              "    <div class=\"colab-df-buttons\">\n",
              "\n",
              "  <div class=\"colab-df-container\">\n",
              "    <button class=\"colab-df-convert\" onclick=\"convertToInteractive('df-39cda63f-d92b-43b0-81b5-06890776d632')\"\n",
              "            title=\"Convert this dataframe to an interactive table.\"\n",
              "            style=\"display:none;\">\n",
              "\n",
              "  <svg xmlns=\"http://www.w3.org/2000/svg\" height=\"24px\" viewBox=\"0 -960 960 960\">\n",
              "    <path d=\"M120-120v-720h720v720H120Zm60-500h600v-160H180v160Zm220 220h160v-160H400v160Zm0 220h160v-160H400v160ZM180-400h160v-160H180v160Zm440 0h160v-160H620v160ZM180-180h160v-160H180v160Zm440 0h160v-160H620v160Z\"/>\n",
              "  </svg>\n",
              "    </button>\n",
              "\n",
              "  <style>\n",
              "    .colab-df-container {\n",
              "      display:flex;\n",
              "      gap: 12px;\n",
              "    }\n",
              "\n",
              "    .colab-df-convert {\n",
              "      background-color: #E8F0FE;\n",
              "      border: none;\n",
              "      border-radius: 50%;\n",
              "      cursor: pointer;\n",
              "      display: none;\n",
              "      fill: #1967D2;\n",
              "      height: 32px;\n",
              "      padding: 0 0 0 0;\n",
              "      width: 32px;\n",
              "    }\n",
              "\n",
              "    .colab-df-convert:hover {\n",
              "      background-color: #E2EBFA;\n",
              "      box-shadow: 0px 1px 2px rgba(60, 64, 67, 0.3), 0px 1px 3px 1px rgba(60, 64, 67, 0.15);\n",
              "      fill: #174EA6;\n",
              "    }\n",
              "\n",
              "    .colab-df-buttons div {\n",
              "      margin-bottom: 4px;\n",
              "    }\n",
              "\n",
              "    [theme=dark] .colab-df-convert {\n",
              "      background-color: #3B4455;\n",
              "      fill: #D2E3FC;\n",
              "    }\n",
              "\n",
              "    [theme=dark] .colab-df-convert:hover {\n",
              "      background-color: #434B5C;\n",
              "      box-shadow: 0px 1px 3px 1px rgba(0, 0, 0, 0.15);\n",
              "      filter: drop-shadow(0px 1px 2px rgba(0, 0, 0, 0.3));\n",
              "      fill: #FFFFFF;\n",
              "    }\n",
              "  </style>\n",
              "\n",
              "    <script>\n",
              "      const buttonEl =\n",
              "        document.querySelector('#df-39cda63f-d92b-43b0-81b5-06890776d632 button.colab-df-convert');\n",
              "      buttonEl.style.display =\n",
              "        google.colab.kernel.accessAllowed ? 'block' : 'none';\n",
              "\n",
              "      async function convertToInteractive(key) {\n",
              "        const element = document.querySelector('#df-39cda63f-d92b-43b0-81b5-06890776d632');\n",
              "        const dataTable =\n",
              "          await google.colab.kernel.invokeFunction('convertToInteractive',\n",
              "                                                    [key], {});\n",
              "        if (!dataTable) return;\n",
              "\n",
              "        const docLinkHtml = 'Like what you see? Visit the ' +\n",
              "          '<a target=\"_blank\" href=https://colab.research.google.com/notebooks/data_table.ipynb>data table notebook</a>'\n",
              "          + ' to learn more about interactive tables.';\n",
              "        element.innerHTML = '';\n",
              "        dataTable['output_type'] = 'display_data';\n",
              "        await google.colab.output.renderOutput(dataTable, element);\n",
              "        const docLink = document.createElement('div');\n",
              "        docLink.innerHTML = docLinkHtml;\n",
              "        element.appendChild(docLink);\n",
              "      }\n",
              "    </script>\n",
              "  </div>\n",
              "\n",
              "\n",
              "<div id=\"df-cdafb57f-b155-4fc6-ba5b-80fdf0263060\">\n",
              "  <button class=\"colab-df-quickchart\" onclick=\"quickchart('df-cdafb57f-b155-4fc6-ba5b-80fdf0263060')\"\n",
              "            title=\"Suggest charts.\"\n",
              "            style=\"display:none;\">\n",
              "\n",
              "<svg xmlns=\"http://www.w3.org/2000/svg\" height=\"24px\"viewBox=\"0 0 24 24\"\n",
              "     width=\"24px\">\n",
              "    <g>\n",
              "        <path d=\"M19 3H5c-1.1 0-2 .9-2 2v14c0 1.1.9 2 2 2h14c1.1 0 2-.9 2-2V5c0-1.1-.9-2-2-2zM9 17H7v-7h2v7zm4 0h-2V7h2v10zm4 0h-2v-4h2v4z\"/>\n",
              "    </g>\n",
              "</svg>\n",
              "  </button>\n",
              "\n",
              "<style>\n",
              "  .colab-df-quickchart {\n",
              "      --bg-color: #E8F0FE;\n",
              "      --fill-color: #1967D2;\n",
              "      --hover-bg-color: #E2EBFA;\n",
              "      --hover-fill-color: #174EA6;\n",
              "      --disabled-fill-color: #AAA;\n",
              "      --disabled-bg-color: #DDD;\n",
              "  }\n",
              "\n",
              "  [theme=dark] .colab-df-quickchart {\n",
              "      --bg-color: #3B4455;\n",
              "      --fill-color: #D2E3FC;\n",
              "      --hover-bg-color: #434B5C;\n",
              "      --hover-fill-color: #FFFFFF;\n",
              "      --disabled-bg-color: #3B4455;\n",
              "      --disabled-fill-color: #666;\n",
              "  }\n",
              "\n",
              "  .colab-df-quickchart {\n",
              "    background-color: var(--bg-color);\n",
              "    border: none;\n",
              "    border-radius: 50%;\n",
              "    cursor: pointer;\n",
              "    display: none;\n",
              "    fill: var(--fill-color);\n",
              "    height: 32px;\n",
              "    padding: 0;\n",
              "    width: 32px;\n",
              "  }\n",
              "\n",
              "  .colab-df-quickchart:hover {\n",
              "    background-color: var(--hover-bg-color);\n",
              "    box-shadow: 0 1px 2px rgba(60, 64, 67, 0.3), 0 1px 3px 1px rgba(60, 64, 67, 0.15);\n",
              "    fill: var(--button-hover-fill-color);\n",
              "  }\n",
              "\n",
              "  .colab-df-quickchart-complete:disabled,\n",
              "  .colab-df-quickchart-complete:disabled:hover {\n",
              "    background-color: var(--disabled-bg-color);\n",
              "    fill: var(--disabled-fill-color);\n",
              "    box-shadow: none;\n",
              "  }\n",
              "\n",
              "  .colab-df-spinner {\n",
              "    border: 2px solid var(--fill-color);\n",
              "    border-color: transparent;\n",
              "    border-bottom-color: var(--fill-color);\n",
              "    animation:\n",
              "      spin 1s steps(1) infinite;\n",
              "  }\n",
              "\n",
              "  @keyframes spin {\n",
              "    0% {\n",
              "      border-color: transparent;\n",
              "      border-bottom-color: var(--fill-color);\n",
              "      border-left-color: var(--fill-color);\n",
              "    }\n",
              "    20% {\n",
              "      border-color: transparent;\n",
              "      border-left-color: var(--fill-color);\n",
              "      border-top-color: var(--fill-color);\n",
              "    }\n",
              "    30% {\n",
              "      border-color: transparent;\n",
              "      border-left-color: var(--fill-color);\n",
              "      border-top-color: var(--fill-color);\n",
              "      border-right-color: var(--fill-color);\n",
              "    }\n",
              "    40% {\n",
              "      border-color: transparent;\n",
              "      border-right-color: var(--fill-color);\n",
              "      border-top-color: var(--fill-color);\n",
              "    }\n",
              "    60% {\n",
              "      border-color: transparent;\n",
              "      border-right-color: var(--fill-color);\n",
              "    }\n",
              "    80% {\n",
              "      border-color: transparent;\n",
              "      border-right-color: var(--fill-color);\n",
              "      border-bottom-color: var(--fill-color);\n",
              "    }\n",
              "    90% {\n",
              "      border-color: transparent;\n",
              "      border-bottom-color: var(--fill-color);\n",
              "    }\n",
              "  }\n",
              "</style>\n",
              "\n",
              "  <script>\n",
              "    async function quickchart(key) {\n",
              "      const quickchartButtonEl =\n",
              "        document.querySelector('#' + key + ' button');\n",
              "      quickchartButtonEl.disabled = true;  // To prevent multiple clicks.\n",
              "      quickchartButtonEl.classList.add('colab-df-spinner');\n",
              "      try {\n",
              "        const charts = await google.colab.kernel.invokeFunction(\n",
              "            'suggestCharts', [key], {});\n",
              "      } catch (error) {\n",
              "        console.error('Error during call to suggestCharts:', error);\n",
              "      }\n",
              "      quickchartButtonEl.classList.remove('colab-df-spinner');\n",
              "      quickchartButtonEl.classList.add('colab-df-quickchart-complete');\n",
              "    }\n",
              "    (() => {\n",
              "      let quickchartButtonEl =\n",
              "        document.querySelector('#df-cdafb57f-b155-4fc6-ba5b-80fdf0263060 button');\n",
              "      quickchartButtonEl.style.display =\n",
              "        google.colab.kernel.accessAllowed ? 'block' : 'none';\n",
              "    })();\n",
              "  </script>\n",
              "</div>\n",
              "    </div>\n",
              "  </div>\n"
            ]
          },
          "metadata": {},
          "execution_count": 3
        }
      ]
    },
    {
      "cell_type": "code",
      "source": [
        "common_queries = df['message'].value_counts().head(10)\n",
        "print(\"Common Queries:\")\n",
        "print(common_queries)\n"
      ],
      "metadata": {
        "colab": {
          "base_uri": "https://localhost:8080/"
        },
        "id": "hjuus_pwPwFQ",
        "outputId": "49708fd9-b7e9-44e6-cd8d-53b3ea3c9ae4"
      },
      "execution_count": 4,
      "outputs": [
        {
          "output_type": "stream",
          "name": "stdout",
          "text": [
            "Common Queries:\n",
            "Marked as no reply needed                                                                                                                                                                                                                                                                                                                                                                                                                                                            14\n",
            "אחר\\nמידע נוסף: Dear Adi Gafni, we're happy to confirm this.                                                                                                                                                                                                                                                                                                                                                                                                                          2\n",
            "Yes                                                                                                                                                                                                                                                                                                                                                                                                                                                                                   2\n",
            "                                                                                                                                                                                                                                                                                                                                                                                                                                                                                      2\n",
            "Hi Shai, My parents, my boyfriend and I are taking a trip to Haifa while we are exploring Israel, and your airbnb looks like the perfect place for us to stay. Looking forward to it! Thanks, Kenna                                                                                                                                                                                                                                                                                   1\n",
            " לגבי החניה, כאשר תגיע תתן לי את מספר הרכב ואכניס אותו למערכת החניון 👌                                                                                                                                                                                                                                                                                                                                                                                                                1\n",
            "שהיה בדירה\\n\\nנגיע לקראת הצהריים\\nאבקש פרטים על כניסה לדירה ועל חניה לרכב\\nתודה\\nניסקה פרומה\\n0543014363                                                                                                                                                                                                                                                                                                                                                                              1\n",
            "\\n\\n\\n\\n  \\n    \\n    \\n  \\n  \\n    \\n      Hi fruma,\\r\\n\\r\\nThank you for booking with us! We are excited to welcome you to our place soon. Your booking for 2 was successful.\\r\\n\\r\\nWe have created a digital guidebook for you!\\r\\nhttps://guest.smoobu.com/?t=vvb2febeaf1&b=44418338.\\r\\n\\r\\nIf there's anything else you need, please let us know. We want to make sure we are fully prepared for your stay!\\r\\nLooking forward to seeing you soon!\\r\\n\\r\\nShai    \\n  \\n\\n     1\n",
            "\\n\\n\\n\\n  \\n    \\n    \\n  \\n  \\n    \\n      Hi Ilan,\\r\\n\\r\\nThank you for booking with us! We are excited to welcome you to our place soon. Your booking for 3 was successful.\\r\\n\\r\\nWe have created a digital guidebook for you!\\r\\nhttps://guest.smoobu.com/?t=sdz253231f2&b=41853500.\\r\\n\\r\\nIf there's anything else you need, please let us know. We want to make sure we are fully prepared for your stay!\\r\\nLooking forward to seeing you soon!\\r\\n\\r\\nShai    \\n  \\n\\n      1\n",
            "אחר\\nמידע נוסף: שלום Ilan Paleiov, אנו שמחים לאשר זאת בפניכם.                                                                                                                                                                                                                                                                                                                                                                                                                         1\n",
            "Name: message, dtype: int64\n"
          ]
        }
      ]
    },
    {
      "cell_type": "code",
      "source": [
        "message_types = df['type'].value_counts()\n",
        "print(\"Message Types:\")\n",
        "print(message_types)\n"
      ],
      "metadata": {
        "colab": {
          "base_uri": "https://localhost:8080/"
        },
        "id": "UQ9dh04zP0NF",
        "outputId": "45d38cae-30e6-4050-e6dc-39bcaf6575c7"
      },
      "execution_count": 5,
      "outputs": [
        {
          "output_type": "stream",
          "name": "stdout",
          "text": [
            "Message Types:\n",
            "1    77\n",
            "2    40\n",
            "Name: type, dtype: int64\n"
          ]
        }
      ]
    },
    {
      "cell_type": "code",
      "source": [
        "# Convert 'createdAt' to datetime format\n",
        "df['createdAt'] = pd.to_datetime(df['createdAt'])\n",
        "\n",
        "# Extract the hour from the datetime\n",
        "df['hour'] = df['createdAt'].dt.hour\n",
        "\n",
        "# Count the frequency of messages per hour\n",
        "active_hours = df['hour'].value_counts().sort_index()\n",
        "\n",
        "print(\"Most Active Hours:\")\n",
        "print(active_hours)\n"
      ],
      "metadata": {
        "colab": {
          "base_uri": "https://localhost:8080/"
        },
        "id": "fr9CorSJP3tl",
        "outputId": "036e0d5d-42a5-467d-b8f3-f1769d76db54"
      },
      "execution_count": 10,
      "outputs": [
        {
          "output_type": "stream",
          "name": "stdout",
          "text": [
            "Most Active Hours:\n",
            "0      4\n",
            "2      4\n",
            "7      5\n",
            "8      1\n",
            "9      4\n",
            "10     1\n",
            "11     7\n",
            "12    17\n",
            "13     2\n",
            "14     5\n",
            "15     2\n",
            "16     1\n",
            "17     8\n",
            "18    16\n",
            "19    10\n",
            "20     7\n",
            "21     2\n",
            "22    19\n",
            "23     2\n",
            "Name: hour, dtype: int64\n"
          ]
        }
      ]
    },
    {
      "cell_type": "code",
      "source": [
        "print(df.columns)\n"
      ],
      "metadata": {
        "colab": {
          "base_uri": "https://localhost:8080/"
        },
        "id": "oqEYxyTeQOkl",
        "outputId": "b3a8e6f9-ed0f-462e-b213-62b21c7bba4f"
      },
      "execution_count": 9,
      "outputs": [
        {
          "output_type": "stream",
          "name": "stdout",
          "text": [
            "Index(['id', 'subject', 'message', 'htmlMessage', 'type', 'createdAt'], dtype='object')\n"
          ]
        }
      ]
    },
    {
      "cell_type": "code",
      "source": [
        "import matplotlib.pyplot as plt\n",
        "\n",
        "plt.bar(active_hours.index, active_hours.values)\n",
        "plt.xlabel('Hour of the Day')\n",
        "plt.ylabel('Number of Messages')\n",
        "plt.title('Most Active Hours for Guest Messaging')\n",
        "plt.show()\n"
      ],
      "metadata": {
        "colab": {
          "base_uri": "https://localhost:8080/",
          "height": 472
        },
        "id": "5Z6TkGGLQsvi",
        "outputId": "857626c9-0dd2-4897-884f-cbee0c903390"
      },
      "execution_count": 11,
      "outputs": [
        {
          "output_type": "display_data",
          "data": {
            "text/plain": [
              "<Figure size 640x480 with 1 Axes>"
            ],
            "image/png": "[encoded data removed]"
          },
          "metadata": {}
        }
      ]
    },
    {
      "cell_type": "code",
      "source": [
        "# Save DataFrame to CSV\n",
        "df.to_csv('Smoobu_Guest_Messaging_Analysis.csv', index=False)\n"
      ],
      "metadata": {
        "id": "wJoEK5zEQ4_-"
      },
      "execution_count": 12,
      "outputs": []
    }
  ]
}